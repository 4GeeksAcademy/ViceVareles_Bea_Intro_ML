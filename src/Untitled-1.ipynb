{
 "cells": [
  {
   "cell_type": "markdown",
   "id": "161bdc70",
   "metadata": {},
   "source": [
    "# Análisis Exploratorio de Datos (EDA) - Costos de Seguros Médicos\n",
    "\n",
    "Este notebook realiza un análisis exploratorio completo sobre el dataset de costos de seguros médicos."
   ]
  },
  {
   "cell_type": "markdown",
   "id": "bdc8df90",
   "metadata": {},
   "source": [
    "## 1. Importar librerías necesarias\n",
    "\n",
    "Importamos las librerías principales para análisis y visualización de datos."
   ]
  },
  {
   "cell_type": "code",
   "execution_count": null,
   "id": "a5eb472d",
   "metadata": {},
   "outputs": [],
   "source": [
    "import pandas as pd\n",
    "import numpy as np\n",
    "import matplotlib.pyplot as plt\n",
    "import seaborn as sns\n",
    "\n",
    "# Configuración de estilos para gráficos\n",
    "sns.set(style=\"whitegrid\")\n",
    "%matplotlib inline"
   ]
  },
  {
   "cell_type": "markdown",
   "id": "d12551e8",
   "metadata": {},
   "source": [
    "## 2. Carga e inspección inicial de los datos\n",
    "\n",
    "Cargamos el archivo CSV y mostramos las primeras filas para una vista preliminar."
   ]
  },
  {
   "cell_type": "code",
   "execution_count": null,
   "id": "c996f66e",
   "metadata": {},
   "outputs": [],
   "source": [
    "# Cargar el dataset\n",
    "df = pd.read_csv(\"../data/raw/medical_insurance_cost.csv\", sep=';')\n",
    "\n",
    "# Mostrar las primeras filas\n",
    "df.head()"
   ]
  },
  {
   "cell_type": "markdown",
   "id": "afa416b3",
   "metadata": {},
   "source": [
    "## 3. Tamaño y estructura del dataset\n",
    "\n",
    "Mostramos el número de filas y columnas, y la estructura general del DataFrame."
   ]
  },
  {
   "cell_type": "code",
   "execution_count": null,
   "id": "046d5484",
   "metadata": {},
   "outputs": [],
   "source": [
    "# Tamaño del dataset\n",
    "print(f\"Número de filas: {df.shape[0]}\")\n",
    "print(f\"Número de columnas: {df.shape[1]}\")\n",
    "\n",
    "# Estructura general\n",
    "df.info()"
   ]
  },
  {
   "cell_type": "markdown",
   "id": "ff874b16",
   "metadata": {},
   "source": [
    "## 4. Tipos de datos y valores nulos\n",
    "\n",
    "Revisamos los tipos de datos de cada columna y verificamos la existencia de valores nulos o faltantes."
   ]
  },
  {
   "cell_type": "code",
   "execution_count": null,
   "id": "24eabc96",
   "metadata": {},
   "outputs": [],
   "source": [
    "# Tipos de datos\n",
    "print(df.dtypes)\n",
    "\n",
    "# Valores nulos por columna\n",
    "print(\"\\nValores nulos por columna:\")\n",
    "print(df.isnull().sum())"
   ]
  },
  {
   "cell_type": "markdown",
   "id": "1c17174a",
   "metadata": {},
   "source": [
    "## 5. Estadísticas descriptivas\n",
    "\n",
    "Obtenemos estadísticas descriptivas de las variables numéricas."
   ]
  },
  {
   "cell_type": "code",
   "execution_count": null,
   "id": "00f73a8f",
   "metadata": {},
   "outputs": [],
   "source": [
    "# Estadísticas descriptivas\n",
    "df.describe().T"
   ]
  },
  {
   "cell_type": "markdown",
   "id": "70ca5675",
   "metadata": {},
   "source": [
    "## 6. Distribución de variables numéricas\n",
    "\n",
    "Visualizamos la distribución de las variables numéricas usando histogramas y boxplots."
   ]
  },
  {
   "cell_type": "code",
   "execution_count": null,
   "id": "6d8087b9",
   "metadata": {},
   "outputs": [],
   "source": [
    "# Seleccionar variables numéricas\n",
    "num_cols = df.select_dtypes(include=np.number).columns\n",
    "\n",
    "# Histogramas\n",
    "df[num_cols].hist(figsize=(12, 8), bins=20)\n",
    "plt.suptitle(\"Histogramas de variables numéricas\")\n",
    "plt.show()\n",
    "\n",
    "# Boxplots\n",
    "plt.figure(figsize=(12, 6))\n",
    "for i, col in enumerate(num_cols):\n",
    "    plt.subplot(1, len(num_cols), i+1)\n",
    "    sns.boxplot(y=df[col])\n",
    "    plt.title(col)\n",
    "plt.tight_layout()\n",
    "plt.show()"
   ]
  },
  {
   "cell_type": "markdown",
   "id": "d3a93d52",
   "metadata": {},
   "source": [
    "## 7. Distribución de variables categóricas\n",
    "\n",
    "Visualizamos la frecuencia de las variables categóricas usando gráficos de barras."
   ]
  },
  {
   "cell_type": "code",
   "execution_count": null,
   "id": "6a409da0",
   "metadata": {},
   "outputs": [],
   "source": [
    "# Seleccionar variables categóricas\n",
    "cat_cols = df.select_dtypes(include='object').columns\n",
    "\n",
    "# Gráficos de barras para cada variable categórica\n",
    "plt.figure(figsize=(15, 4))\n",
    "for i, col in enumerate(cat_cols):\n",
    "    plt.subplot(1, len(cat_cols), i+1)\n",
    "    sns.countplot(x=df[col])\n",
    "    plt.title(col)\n",
    "    plt.xticks(rotation=45)\n",
    "plt.tight_layout()\n",
    "plt.show()"
   ]
  },
  {
   "cell_type": "markdown",
   "id": "37b9d735",
   "metadata": {},
   "source": [
    "## 8. Correlación entre variables\n",
    "\n",
    "Calculamos y visualizamos la matriz de correlación entre variables numéricas."
   ]
  },
  {
   "cell_type": "code",
   "execution_count": null,
   "id": "92582337",
   "metadata": {},
   "outputs": [],
   "source": [
    "# Matriz de correlación\n",
    "corr = df[num_cols].corr()\n",
    "\n",
    "# Mapa de calor de la matriz de correlación\n",
    "plt.figure(figsize=(8, 6))\n",
    "sns.heatmap(corr, annot=True, cmap='coolwarm', fmt=\".2f\")\n",
    "plt.title(\"Matriz de correlación\")\n",
    "plt.show()"
   ]
  },
  {
   "cell_type": "markdown",
   "id": "4c59f434",
   "metadata": {},
   "source": [
    "## 9. Visualización de relaciones entre variables\n",
    "\n",
    "Realizamos gráficos de dispersión y pairplots para explorar relaciones entre variables relevantes."
   ]
  },
  {
   "cell_type": "code",
   "execution_count": null,
   "id": "df8ad3a8",
   "metadata": {},
   "outputs": [],
   "source": [
    "# Gráfico de dispersión entre 'charges' y otras variables numéricas\n",
    "for col in num_cols:\n",
    "    if col != 'charges':\n",
    "        plt.figure(figsize=(6, 4))\n",
    "        sns.scatterplot(x=df[col], y=df['charges'])\n",
    "        plt.title(f'Relación entre {col} y charges')\n",
    "        plt.xlabel(col)\n",
    "        plt.ylabel('charges')\n",
    "        plt.show()\n",
    "\n",
    "# Pairplot de variables numéricas\n",
    "sns.pairplot(df[num_cols])\n",
    "plt.suptitle(\"Pairplot de variables numéricas\", y=1.02)\n",
    "plt.show()"
   ]
  }
 ],
 "metadata": {
  "language_info": {
   "name": "python"
  }
 },
 "nbformat": 4,
 "nbformat_minor": 5
}
